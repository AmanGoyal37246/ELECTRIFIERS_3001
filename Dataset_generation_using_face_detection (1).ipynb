{
  "nbformat": 4,
  "nbformat_minor": 0,
  "metadata": {
    "colab": {
      "name": "Dataset generation using face detection.ipynb",
      "provenance": [],
      "collapsed_sections": []
    },
    "kernelspec": {
      "name": "python3",
      "display_name": "Python 3"
    },
    "accelerator": "GPU"
  },
  "cells": [
    {
      "cell_type": "markdown",
      "metadata": {
        "id": "fo-Y4Wly3GZz",
        "colab_type": "text"
      },
      "source": [
        "#Mounting Drive"
      ]
    },
    {
      "cell_type": "code",
      "metadata": {
        "id": "yOQEG3ub_5eU",
        "colab_type": "code",
        "colab": {
          "base_uri": "https://localhost:8080/",
          "height": 34
        },
        "outputId": "4e9c3d1b-a44b-444e-881e-63e6bf597046"
      },
      "source": [
        "from google.colab import drive\n",
        "drive.mount('/content/drive')"
      ],
      "execution_count": 44,
      "outputs": [
        {
          "output_type": "stream",
          "text": [
            "Drive already mounted at /content/drive; to attempt to forcibly remount, call drive.mount(\"/content/drive\", force_remount=True).\n"
          ],
          "name": "stdout"
        }
      ]
    },
    {
      "cell_type": "markdown",
      "metadata": {
        "id": "xa8cvUhr3EAq",
        "colab_type": "text"
      },
      "source": [
        "#Importing Libraries"
      ]
    },
    {
      "cell_type": "code",
      "metadata": {
        "id": "hPDZwr0w_3o1",
        "colab_type": "code",
        "colab": {}
      },
      "source": [
        "import dlib\n",
        "import cv2\n",
        "import os\n",
        "import re\n",
        "import json\n",
        "from pylab import *\n",
        "from PIL import Image, ImageChops, ImageEnhance\n",
        "from google.colab.patches import cv2_imshow\n",
        "import numpy as np \n",
        "from PIL import Image\n",
        "import imagehash"
      ],
      "execution_count": 45,
      "outputs": []
    },
    {
      "cell_type": "markdown",
      "metadata": {
        "id": "FgpzBi0R3Jca",
        "colab_type": "text"
      },
      "source": [
        "#Changing Directory"
      ]
    },
    {
      "cell_type": "code",
      "metadata": {
        "id": "bxLGAghPAMFu",
        "colab_type": "code",
        "colab": {
          "base_uri": "https://localhost:8080/",
          "height": 34
        },
        "outputId": "2a110359-9f76-4c30-c233-6bb463acf4b7"
      },
      "source": [
        "%cd /content/drive/My Drive/Create-a-thon"
      ],
      "execution_count": 46,
      "outputs": [
        {
          "output_type": "stream",
          "text": [
            "/content/drive/My Drive/Create-a-thon\n"
          ],
          "name": "stdout"
        }
      ]
    },
    {
      "cell_type": "markdown",
      "metadata": {
        "id": "3c6hWsvx3NKa",
        "colab_type": "text"
      },
      "source": [
        "#Creating Database: Extracting faces from first video & mark all of them as criminals"
      ]
    },
    {
      "cell_type": "code",
      "metadata": {
        "id": "D2li0KG5CdQ4",
        "colab_type": "code",
        "colab": {}
      },
      "source": [
        "face = cv2.CascadeClassifier('haarcascade_frontalface_default.xml')\n",
        "vid = cv2.VideoCapture(r'tbbt.mp4')\n",
        "ct = 0\n",
        "\n",
        "while(True):\n",
        "\tret,img = vid.read()\n",
        "\tgray = cv2.cvtColor(img,cv2.COLOR_BGR2GRAY)\n",
        "\tfaces = face.detectMultiScale(gray,1.3,5)\n",
        "\tfor(x,y,w,h) in faces:\n",
        "\t\tct+=1\n",
        "\t\tcv2.imwrite('images/'+'_'+str(ct)+'.jpg',gray[y:y+h,x:x+w])\n",
        "\t\tcv2.rectangle(img,(x,y),(x+w,y+h),(0,255,0),2)\n",
        "\t\tcv2.waitKey(1)\n",
        "\t#cv2_imshow(img)\n",
        "\tcv2.waitKey(1)\n",
        "\tif(ct>500):\n",
        "\t\tbreak\n",
        "\n",
        "vid.release()\n",
        "cv2.destroyAllWindows()"
      ],
      "execution_count": null,
      "outputs": []
    },
    {
      "cell_type": "markdown",
      "metadata": {
        "id": "bxIT2en73UiL",
        "colab_type": "text"
      },
      "source": [
        "#Comapare function for 2 images"
      ]
    },
    {
      "cell_type": "code",
      "metadata": {
        "id": "amKJA6yawvz3",
        "colab_type": "code",
        "colab": {}
      },
      "source": [
        "from skimage.measure._structural_similarity import structural_similarity as ssim\n",
        "import matplotlib.pyplot as plt\n",
        "\n",
        "'''def mse(imageA, imageB):\n",
        "\t# the 'Mean Squared Error' between the two images is the\n",
        "\t# sum of the squared difference between the two images;\n",
        "\t# NOTE: the two images must have the same dimension\n",
        "\terr = np.sum((imageA.astype(\"float\") - imageB.astype(\"float\")) ** 2)\n",
        "\terr /= float(imageA.shape[0] * imageA.shape[1])\n",
        "\t\n",
        "\t# return the MSE, the lower the error, the more \"similar\"\n",
        "\t# the two images are\n",
        "\treturn err'''\n",
        "\n",
        "def compare_images(imageA, imageB, title):\n",
        "\t# compute the mean squared error and structural similarity\n",
        "\t# index for the images\n",
        "\t#m = mse(imageA, imageB)\n",
        "\ts = ssim(imageA, imageB)\n",
        "  if (s>0.60):\n",
        "    # setup the figure\n",
        "    fig = plt.figure(title)\n",
        "    plt.suptitle(\" SSIM: %.2f\" % (s))#MSE: %.2f,\n",
        "    # show first image\n",
        "    ax = fig.add_subplot(1, 2, 1)\n",
        "    plt.imshow(imageA, cmap = plt.cm.gray)\n",
        "    plt.axis(\"off\")\n",
        "    # show the second image\n",
        "    ax = fig.add_subplot(1, 2, 2)\n",
        "    plt.imshow(imageB, cmap = plt.cm.gray)\n",
        "    plt.axis(\"off\")\n",
        "    # show the images\n",
        "    plt.show()\n",
        "  else:\n",
        "    pass"
      ],
      "execution_count": null,
      "outputs": []
    },
    {
      "cell_type": "markdown",
      "metadata": {
        "id": "Bh9Ghlp23YZs",
        "colab_type": "text"
      },
      "source": [
        "#Iteration over the video and comparing each face with our dataset, If found: Criminal"
      ]
    },
    {
      "cell_type": "code",
      "metadata": {
        "id": "_OmuKdR2x6Ub",
        "colab_type": "code",
        "colab": {}
      },
      "source": [
        "face = cv2.CascadeClassifier('haarcascade_frontalface_default.xml')\n",
        "vid = cv2.VideoCapture(r'testing video.mp4')\n",
        "ct = 0\n",
        "\n",
        "while(True):\n",
        "\tret,img = vid.read()\n",
        "\tgray = cv2.cvtColor(img,cv2.COLOR_BGR2GRAY)\n",
        "\tfaces = face.detectMultiScale(gray,1.3,5)\n",
        "\tfor(x,y,w,h) in faces:\n",
        "\t\tct+=1\n",
        "\t\t#cv2.imwrite('images/'+'_'+str(ct)+'.jpg',gray[y:y+h,x:x+w])\n",
        "    for image in glob.glob('images'):\n",
        "\t\t\t#image2 = cv2.cvtColor(image, cv2.COLOR_BGR2GRAY)\n",
        "\t    compare_images(gray[y:y+h,x:x+w], image, \"Original vs. Original\")\n",
        "      #if(compare_ssim(image,gray[y:y+h,x:x+w])>0.6):\n",
        "       # cv2_imshow(gray[y:y+h,x:x+w])\n",
        "        #print(\"criminal\")\n",
        "      #compare gray[y:y+h,x:x+w] with img\n",
        "\t\t  cv2.rectangle(img,(x,y),(x+w,y+h),(0,255,0),2)\n",
        "\t\t  cv2.waitKey(1)\n",
        "\t#cv2_imshow(img)\n",
        "\tcv2.waitKey(1)\n",
        "\tif(ct>500):\n",
        "\t\tbreak\n",
        "\n",
        "vid.release()\n",
        "cv2.destroyAllWindows()"
      ],
      "execution_count": null,
      "outputs": []
    },
    {
      "cell_type": "code",
      "metadata": {
        "id": "VfhWRzeL1PLA",
        "colab_type": "code",
        "colab": {}
      },
      "source": [
        ""
      ],
      "execution_count": null,
      "outputs": []
    }
  ]
}